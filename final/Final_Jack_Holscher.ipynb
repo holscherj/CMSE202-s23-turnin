{
 "cells": [
  {
   "cell_type": "markdown",
   "metadata": {},
   "source": [
    "# CMSE 202 Final S23 (Sect. 4)\n"
   ]
  },
  {
   "cell_type": "markdown",
   "metadata": {},
   "source": [
    "### <p style=\"text-align: right;\"> &#9989; Jack Holscher</p>\n",
    "### <p style=\"text-align: right;\"> &#9989; holscherj</p>"
   ]
  },
  {
   "cell_type": "markdown",
   "metadata": {},
   "source": [
    "The goal of this final is to give you the opportunity to test out some of the skills that you've developed this semester. In particular, you'll reflect on what you know about writing code using Python and showcase some of your new programming skills.\n",
    "\n",
    "**Important note about using online resources:** This exam is \"open internet\". That means that you can look up documentation, google how to accomplish certain Python tasks, etc. Being able to effectively use the internet for computational modeling and data science is a very important skill, so we want to make sure you have the opportunity to exercise that skill. **However, the use of any person-to-person communication software is absolutely not acceptable.**\n",
    "\n",
    "**Do your own work.** This final is designed to give you the opportunity to show the instructor what you can do and you should hold yourself accountable for maintaining a high level of academic integrity. Any violation of academic integrity could result in you receiving a zero on the final.\n",
    "\n",
    "You are encouraged to look through the entire exam before you get started so that you can appropriately budget your time and understand the broad goals of the exam.\n",
    "\n",
    "While the exam will be *open* for 12 hours, **you should only take two hours on the exam.** The instructor team is available between 745 am and 945 am to answer questions you might have in the zoom room: https://msu.zoom.us/j/99648827750?pwd=VGhqa2JzL2oxMC8yMHo0L2JLOVJWQT09. The exam was written to take two hours. We'll be going on the honor system for this. There are times when instructors will be available to answer questions. \n",
    "\n",
    "\n",
    "### Content Knowledge Tested\n",
    "- Using Github to save and track progress on your work\n",
    "- Effectively visualizing data\n",
    "- Using ML tools to create a classification model\n",
    "- Quantitatively evaluating classification models"
   ]
  },
  {
   "cell_type": "markdown",
   "metadata": {},
   "source": [
    "## Part 0: Add to your Git repository to track your progress on your exam (10 points total)\n",
    "\n",
    "Before you get to far along in the exam, you're going to add it to the `cmse202-S23-turnin` repository you created in class so that you can track your progress on the exam and preserve the final version that you turn in. In order to do this you need to\n",
    "\n",
    "### Part 0.1 (4 Points)\n",
    "\n",
    "1. Navigate to your `cmse202-S23-turnin` repository and create a new directory called `final`.\n",
    "2. Move this notebook into that **new directory** in your repository, then **add it and commit it to your repository**.\n",
    "3. Finally, to test that everything is working, \"git push\" the file so that it ends up in your GitHub repository.\n",
    "\n",
    "**Important**: Double check you've added your Professor and your TA as collaborators to your \"turnin\" respository (you should have done this in the previous homework assignment).\n",
    "\n",
    "**Also important**: Make sure that the version of this notebook that you are working on is the same one that you just added to your repository! If you are working on a different copy of the noteobok, **none of your changes will be tracked**!\n",
    "\n",
    "The file should now show up on your GitHub account in the `cmse202-S23-turnin` repository inside the `final` directory you just created.  Periodically, **you'll be asked to commit your changes to the repository and push them to the remote GitHub location**. It can be good to get into a habit of committing your changes any time you make a significant modification."
   ]
  },
  {
   "cell_type": "markdown",
   "metadata": {},
   "source": [
    "## Part 1 (5 Points)\n",
    "\n",
    "For this exam, you’ll be working with a data set that contains measurements of the physical characteristics of dry seeds (e.g., shape, size, etc.). This is a subset of the larger dataset that can be [found here](http://archive.ics.uci.edu/ml/datasets/Dry+Bean+Dataset). We’ll ask you a set of questions that center the classification of these seeds using techniques you’ve worked with in class and on the homework. \n",
    "\n",
    "To get started, let’s grab the dataset we’ll be working with.\n",
    "\n",
    "**Use the following URL to download the dataset. Import the dataset in the cell below.**\n",
    "\n",
    "`https://raw.githubusercontent.com/msu-cmse-courses/cmse202-S23-data/main/Final/Seed_data.csv`"
   ]
  },
  {
   "cell_type": "markdown",
   "metadata": {},
   "source": [
    "Write your code for downloading the data here\n",
    "\n",
    "curl -o Seed_data.csv https://raw.githubusercontent.com/msu-cmse-courses/cmse202-S23-data/main/Final/Seed_data.csv"
   ]
  },
  {
   "cell_type": "code",
   "execution_count": 4,
   "metadata": {},
   "outputs": [
    {
     "data": {
      "text/html": [
       "<div>\n",
       "<style scoped>\n",
       "    .dataframe tbody tr th:only-of-type {\n",
       "        vertical-align: middle;\n",
       "    }\n",
       "\n",
       "    .dataframe tbody tr th {\n",
       "        vertical-align: top;\n",
       "    }\n",
       "\n",
       "    .dataframe thead th {\n",
       "        text-align: right;\n",
       "    }\n",
       "</style>\n",
       "<table border=\"1\" class=\"dataframe\">\n",
       "  <thead>\n",
       "    <tr style=\"text-align: right;\">\n",
       "      <th></th>\n",
       "      <th>roundness</th>\n",
       "      <th>ShapeFactor2</th>\n",
       "      <th>Compactness</th>\n",
       "      <th>Class</th>\n",
       "    </tr>\n",
       "  </thead>\n",
       "  <tbody>\n",
       "    <tr>\n",
       "      <th>0</th>\n",
       "      <td>0.958027</td>\n",
       "      <td>0.003147</td>\n",
       "      <td>0.913358</td>\n",
       "      <td>SEKER</td>\n",
       "    </tr>\n",
       "    <tr>\n",
       "      <th>1</th>\n",
       "      <td>0.887034</td>\n",
       "      <td>0.003564</td>\n",
       "      <td>0.953861</td>\n",
       "      <td>SEKER</td>\n",
       "    </tr>\n",
       "    <tr>\n",
       "      <th>2</th>\n",
       "      <td>0.947849</td>\n",
       "      <td>0.003048</td>\n",
       "      <td>0.908774</td>\n",
       "      <td>SEKER</td>\n",
       "    </tr>\n",
       "    <tr>\n",
       "      <th>3</th>\n",
       "      <td>0.903936</td>\n",
       "      <td>0.003215</td>\n",
       "      <td>0.928329</td>\n",
       "      <td>SEKER</td>\n",
       "    </tr>\n",
       "    <tr>\n",
       "      <th>4</th>\n",
       "      <td>0.984877</td>\n",
       "      <td>0.003665</td>\n",
       "      <td>0.970516</td>\n",
       "      <td>SEKER</td>\n",
       "    </tr>\n",
       "    <tr>\n",
       "      <th>...</th>\n",
       "      <td>...</td>\n",
       "      <td>...</td>\n",
       "      <td>...</td>\n",
       "      <td>...</td>\n",
       "    </tr>\n",
       "    <tr>\n",
       "      <th>9090</th>\n",
       "      <td>0.916603</td>\n",
       "      <td>0.001749</td>\n",
       "      <td>0.801865</td>\n",
       "      <td>DERMASON</td>\n",
       "    </tr>\n",
       "    <tr>\n",
       "      <th>9091</th>\n",
       "      <td>0.922015</td>\n",
       "      <td>0.001886</td>\n",
       "      <td>0.822252</td>\n",
       "      <td>DERMASON</td>\n",
       "    </tr>\n",
       "    <tr>\n",
       "      <th>9092</th>\n",
       "      <td>0.918424</td>\n",
       "      <td>0.001888</td>\n",
       "      <td>0.822730</td>\n",
       "      <td>DERMASON</td>\n",
       "    </tr>\n",
       "    <tr>\n",
       "      <th>9093</th>\n",
       "      <td>0.907906</td>\n",
       "      <td>0.001852</td>\n",
       "      <td>0.817457</td>\n",
       "      <td>DERMASON</td>\n",
       "    </tr>\n",
       "    <tr>\n",
       "      <th>9094</th>\n",
       "      <td>0.888380</td>\n",
       "      <td>0.001640</td>\n",
       "      <td>0.784997</td>\n",
       "      <td>DERMASON</td>\n",
       "    </tr>\n",
       "  </tbody>\n",
       "</table>\n",
       "<p>9095 rows × 4 columns</p>\n",
       "</div>"
      ],
      "text/plain": [
       "      roundness  ShapeFactor2  Compactness     Class\n",
       "0      0.958027      0.003147     0.913358     SEKER\n",
       "1      0.887034      0.003564     0.953861     SEKER\n",
       "2      0.947849      0.003048     0.908774     SEKER\n",
       "3      0.903936      0.003215     0.928329     SEKER\n",
       "4      0.984877      0.003665     0.970516     SEKER\n",
       "...         ...           ...          ...       ...\n",
       "9090   0.916603      0.001749     0.801865  DERMASON\n",
       "9091   0.922015      0.001886     0.822252  DERMASON\n",
       "9092   0.918424      0.001888     0.822730  DERMASON\n",
       "9093   0.907906      0.001852     0.817457  DERMASON\n",
       "9094   0.888380      0.001640     0.784997  DERMASON\n",
       "\n",
       "[9095 rows x 4 columns]"
      ]
     },
     "execution_count": 4,
     "metadata": {},
     "output_type": "execute_result"
    }
   ],
   "source": [
    "#Write your code for importing the data here\n",
    "import pandas as pd\n",
    "\n",
    "df = pd.read_csv(\"Seed_data.csv\")\n",
    "df"
   ]
  },
  {
   "cell_type": "markdown",
   "metadata": {},
   "source": [
    "## Part 2 (15 Points)\n",
    "\n",
    "Use Seaborn to make a visualization showing the distributions (I.e., histograms and/or scatterplots) of each of the different seed characteristics. Your visualization should represent each of the different seed type/classes as a different color. This should all be a single figure. Use the [**examples in the seaborn gallery**](https://seaborn.pydata.org/examples/index.html) to help you find the right type of figure. (Note: There are several types of figures that will work for this.)"
   ]
  },
  {
   "cell_type": "code",
   "execution_count": 23,
   "metadata": {},
   "outputs": [
    {
     "data": {
      "image/png": "[encoded data removed]",
      "text/plain": [
       "<Figure size 864x288 with 3 Axes>"
      ]
     },
     "metadata": {
      "needs_background": "light"
     },
     "output_type": "display_data"
    }
   ],
   "source": [
    "#Write your plotting code here\n",
    "import seaborn as sns\n",
    "from matplotlib import pyplot as plt\n",
    "\n",
    "fig, ax = plt.subplots(ncols=3, figsize=(12, 4))\n",
    "\n",
    "sns.histplot(data=df, x=\"roundness\", hue=\"Class\", ax=ax[0])\n",
    "sns.histplot(data=df, x=\"ShapeFactor2\", hue=\"Class\", ax=ax[1])\n",
    "sns.histplot(data=df, x=\"Compactness\", hue=\"Class\", multiple=\"stack\", ax=ax[2])\n",
    "\n",
    "\n",
    "\n",
    "plt.show()"
   ]
  },
  {
   "cell_type": "markdown",
   "metadata": {},
   "source": [
    "## Part 3 (15 Points)\n",
    "\n",
    "Look at the distributions of the data. Without doing any model fitting (I.e., just by eye), which pair of seeds do you think would be **easiest** for an ML technique to differentiate between? Which pair of seeds do you believe would be **hardest** to separate? **Why?** Justify your answers using your visualization."
   ]
  },
  {
   "cell_type": "markdown",
   "metadata": {},
   "source": [
    "*I think it would be easiest for a ML model to differentiate between Dermason and Seker seeds. Overall in the three histograms, they have the biggest differences in height, which would make it the easiest for the model to determine which is which. On average, seker has high roundness, shape factor, and compactness than dermason*"
   ]
  },
  {
   "cell_type": "markdown",
   "metadata": {},
   "source": [
    "---\n",
    "### &#128721; STOP (2 points)\n",
    "**Pause to commit your changes to your Git repository!**\n",
    "\n",
    "Take a moment to save your notebook, commit and push the changes to your Git repository.\n",
    "\n",
    "---"
   ]
  },
  {
   "cell_type": "markdown",
   "metadata": {},
   "source": [
    "## Part 4 (15 Points)\n",
    "\n",
    "Create a new dataframe that only contains data for the seeds that you believe will be easiest to separate. (You may need to use Google to figure out how to do this.)"
   ]
  },
  {
   "cell_type": "code",
   "execution_count": 28,
   "metadata": {},
   "outputs": [
    {
     "data": {
      "text/plain": [
       "DERMASON    3536\n",
       "SEKER       2023\n",
       "Name: Class, dtype: int64"
      ]
     },
     "execution_count": 28,
     "metadata": {},
     "output_type": "execute_result"
    }
   ],
   "source": [
    "#Write your code for selecting your data here\n",
    "df = df[(df[\"Class\"] == \"DERMASON\") | (df[\"Class\"] == \"SEKER\")]\n",
    "df[\"Class\"].value_counts()"
   ]
  },
  {
   "cell_type": "markdown",
   "metadata": {},
   "source": [
    "## Part 5 (5 Points)\n",
    "\n",
    "Split the data into a training and testing set. (Make sure to change the class values so that they're 0 and 1, instead of the actual seed names.) Also, for stupid reasons, set the `random_state` to be 35."
   ]
  },
  {
   "cell_type": "code",
   "execution_count": 31,
   "metadata": {},
   "outputs": [],
   "source": [
    "#Write your code for splitting your data here\n",
    "from sklearn.model_selection import train_test_split\n",
    "\n",
    "df['Class'] = df['Class'].replace({'DERMASON': 1, 'SEKER': 0})\n",
    "\n",
    "\n",
    "features = [\"roundness\", \"ShapeFactor2\", \"Compactness\"]\n",
    "X = df.loc[:, features]\n",
    "y = df.loc[:, 'Class']\n",
    "\n",
    "train_vectors, test_vectors, train_labels, test_labels = train_test_split(X, y, random_state=35, train_size=.75)"
   ]
  },
  {
   "cell_type": "markdown",
   "metadata": {},
   "source": [
    "## Part 6 (20 Points)\n",
    "\n",
    "Create and train a model (either regression or SVM) for classifying the data. You can choose which type of model you want to use. **Note:** You may get multiple warnings when creating your model (warnings are *pink*). You may also get a warning about a failure to converge. It is fine to ignore these warnings. "
   ]
  },
  {
   "cell_type": "code",
   "execution_count": 32,
   "metadata": {},
   "outputs": [
    {
     "name": "stdout",
     "output_type": "stream",
     "text": [
      "Warning: Maximum number of iterations has been exceeded.\n",
      "         Current function value: 0.074156\n",
      "         Iterations: 35\n",
      "                           Logit Regression Results                           \n",
      "==============================================================================\n",
      "Dep. Variable:                  Class   No. Observations:                 4169\n",
      "Model:                          Logit   Df Residuals:                     4165\n",
      "Method:                           MLE   Df Model:                            3\n",
      "Date:                Fri, 05 May 2023   Pseudo R-squ.:                  0.8868\n",
      "Time:                        14:18:17   Log-Likelihood:                -309.15\n",
      "converged:                      False   LL-Null:                       -2731.0\n",
      "Covariance Type:            nonrobust   LLR p-value:                     0.000\n",
      "================================================================================\n",
      "                   coef    std err          z      P>|z|      [0.025      0.975]\n",
      "--------------------------------------------------------------------------------\n",
      "const          191.0526      9.541     20.024      0.000     172.352     209.753\n",
      "roundness        2.3891      4.174      0.572      0.567      -5.793      10.571\n",
      "ShapeFactor2  2.011e+04   1195.015     16.827      0.000    1.78e+04    2.25e+04\n",
      "Compactness   -278.8388     14.155    -19.699      0.000    -306.582    -251.095\n",
      "================================================================================\n",
      "\n",
      "Possibly complete quasi-separation: A fraction 0.31 of observations can be\n",
      "perfectly predicted. This might indicate that there is complete\n",
      "quasi-separation. In this case some parameters will not be identified.\n"
     ]
    },
    {
     "name": "stderr",
     "output_type": "stream",
     "text": [
      "/Users/jacksonholscher/opt/anaconda3/lib/python3.9/site-packages/statsmodels/tsa/tsatools.py:142: FutureWarning: In a future version of pandas all arguments of concat except for the argument 'objs' will be keyword-only\n",
      "  x = pd.concat(x[::order], 1)\n",
      "/Users/jacksonholscher/opt/anaconda3/lib/python3.9/site-packages/statsmodels/base/model.py:566: ConvergenceWarning: Maximum Likelihood optimization failed to converge. Check mle_retvals\n",
      "  warnings.warn(\"Maximum Likelihood optimization failed to \"\n"
     ]
    }
   ],
   "source": [
    "#Write your code for training your model here\n",
    "import statsmodels.api as sm\n",
    "\n",
    "log_model = sm.Logit(train_labels, sm.add_constant(train_vectors))\n",
    "result = log_model.fit()\n",
    "print(result.summary())"
   ]
  },
  {
   "cell_type": "markdown",
   "metadata": {},
   "source": [
    "---\n",
    "### &#128721; STOP (2 points)\n",
    "**Pause to commit your changes to your Git repository!**\n",
    "\n",
    "Take a moment to save your notebook, commit and push the changes to your Git repository.\n",
    "\n",
    "---"
   ]
  },
  {
   "cell_type": "markdown",
   "metadata": {},
   "source": [
    "## Part 7 (5 Points)\n",
    "\n",
    "Evaluate your model by finding the accuracy, recall, and precision using the training data."
   ]
  },
  {
   "cell_type": "code",
   "execution_count": null,
   "metadata": {},
   "outputs": [],
   "source": [
    "#Write your code for determining the accuracy, recall, and precision of your model"
   ]
  },
  {
   "cell_type": "markdown",
   "metadata": {},
   "source": [
    "## Part 8 (10 Points)\n",
    "\n",
    "Do you think that this model does a good job of classifying the data? How does it compare to previous classification models you’ve created, both in class and on the homework?"
   ]
  },
  {
   "cell_type": "markdown",
   "metadata": {},
   "source": [
    "*Write your answer here*"
   ]
  },
  {
   "cell_type": "markdown",
   "metadata": {},
   "source": [
    "---\n",
    "### &#128721; STOP\n",
    "**Pause to commit your changes to your Git repository!** (2 points)\n",
    "\n",
    "Take a moment to save your notebook, commit the changes to your Git repository.\n",
    "\n",
    "---"
   ]
  },
  {
   "cell_type": "markdown",
   "metadata": {},
   "source": [
    "## You're done! Congrats on finishing CMSE 202!"
   ]
  },
  {
   "cell_type": "markdown",
   "metadata": {},
   "source": [
    "&#169; Copyright 2023,  Department of Computational Mathematics, Science and Engineering at Michigan State University"
   ]
  }
 ],
 "metadata": {
  "kernelspec": {
   "display_name": "Python 3 (ipykernel)",
   "language": "python",
   "name": "python3"
  },
  "language_info": {
   "codemirror_mode": {
    "name": "ipython",
    "version": 3
   },
   "file_extension": ".py",
   "mimetype": "text/x-python",
   "name": "python",
   "nbconvert_exporter": "python",
   "pygments_lexer": "ipython3",
   "version": "3.9.7"
  }
 },
 "nbformat": 4,
 "nbformat_minor": 2
}
