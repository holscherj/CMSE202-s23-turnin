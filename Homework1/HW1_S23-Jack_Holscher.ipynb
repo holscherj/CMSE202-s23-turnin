{
 "cells": [
  {
   "cell_type": "markdown",
   "metadata": {
    "id": "oaGzBYqYZa9f"
   },
   "source": [
    "# Homework Assignment 1 (Individual)\n",
    "## Git practice, debugging practice, and new Python packages"
   ]
  },
  {
   "cell_type": "markdown",
   "metadata": {
    "id": "CPPmlZrQZcAQ"
   },
   "source": [
    "### <p style=\"text-align: right;\"> &#9989; Jack Holscher</p>\n",
    "### <p style=\"text-align: right;\"> &#9989; holscherj</p>"
   ]
  },
  {
   "cell_type": "markdown",
   "metadata": {
    "id": "iQj_paJ9ZdmJ"
   },
   "source": [
    "\n",
    "### Goals for this homework assignment\n",
    "By the end of this assignment, you should be able will:\n",
    "* Demonstrate the purpose and utility of Git and demonstrate a workflow in practice.\n",
    "* Use Git to create a repository, track changes to the files within the repository, and push those changes to a remote repository.\n",
    "* Articulate the most common debugging strategies\n",
    "* Debug some basic Python code.\n",
    "* Read documentation and example code to use a new Python package\n",
    "\n",
    "Work through the following assignment, making sure to follow all of the directions and answer all of the questions.\n",
    "\n",
    "There are **100 points** possible on this assignment. Point values for each part are included in the section headers and question prompts.\n",
    "\n",
    "**This assignment is due roughly two weeks from now at 11:59 pm on Friday, February 3rd.** It should be uploaded into the \"Homework Assignments\" submission folder for Homework #1 on D2L.  Submission instructions can be found at the end of the notebook. "
   ]
  },
  {
   "cell_type": "markdown",
   "metadata": {
    "id": "-lMRNRFDZBlh"
   },
   "source": [
    "# Part 0: Office Hours and Academic Integrity (10 points)\n",
    "\n",
    "## Academic integrity statement (2 Points)\n",
    "\n",
    "In the markdown cell below, paste your personal academic integrity statement. By including this statement, you are confirming that you are submitting this as your own work and not that of someone else.\n"
   ]
  },
  {
   "cell_type": "markdown",
   "metadata": {
    "id": "dyaVnz36ZDhX"
   },
   "source": [
    "<font size=6 color=\"#009600\">&#9998;</font> **I, Jack Holscher, confirm that all work submitted in this notebook is my own, and during my time as a student here at Michigan State University I will uphold the highest standards of academic integrity.**"
   ]
  },
  {
   "cell_type": "markdown",
   "metadata": {
    "id": "FpV1F8X5ZGyn"
   },
   "source": [
    "## Going to Office Hours (8 Points)\n",
    "\n",
    "### Why are we doing this?\n",
    "We want to make sure that everyone knows how to access the resources\n",
    "available to you. One of the best resources you have at your disposal is office hours.\n",
    "\n",
    "### What will you do?\n",
    "(At minimum) Go to one office hour session ​(it doesn’t matter which one you go to). Come with one question that you would like to talk about. It can be big or small. Ask your question. All of the instructors for CMSE 202 (section leads, TAs, and LAs) will be adding to a running list of folks that we see during office hours; as long as your name appears on the list, you’ll get credit for this part of Homework 1.\n",
    "\n",
    "**NOTE:** The day when the homework is due (**Friday, February 3rd**) will be the busiest time for folks to go to office hours. You are **STRONGLY** encouraged to go to office hours before Friday to get credit for this part of this assignment. (You should still feel free to go to office hours on Friday for help, though!)\n",
    "\n",
    "You can find the office hours calendar on the [course website](https://cmse.msu.edu/cmse202)."
   ]
  },
  {
   "cell_type": "markdown",
   "metadata": {
    "id": "Ycc8us9qZRbQ"
   },
   "source": [
    "**&#9989; **Question 0.1 (8 points)****\n",
    "\n",
    "Type below the question you asked."
   ]
  },
  {
   "cell_type": "markdown",
   "metadata": {
    "id": "QHtvFWdQZSkF"
   },
   "source": [
    "<font size=6 color=\"#009600\">&#9998;</font> **What is your best tip for succeeding in this course?**"
   ]
  },
  {
   "cell_type": "markdown",
   "metadata": {
    "id": "Ouu4YtGnRm_2"
   },
   "source": [
    "# Part 1: Designing a Workflow with Git (30 points total)\n",
    "\n",
    "You have spent some time in class learning about how/why we use git in CMSE 202 and beyond, and you will be expected to use it throughout the semester.\n",
    "\n",
    "## 1.1 Propose a Software Development Workflow (10 points)\n",
    "\n",
    "You are working collaboratively with a team on a research project that includes developing code as well as writing a paper to communicate your results, and you need to ensure that all work is managed and tracked with git. Since you are learning about git in your class, your groupmates have asked you to propose a software development workflow for this project. Here, workflow is defined as the process by which the project is managed and developed.\n",
    "\n",
    "Your workflow must (at least) handle the following:\n",
    "1. What role (or roles) will each person have?\n",
    "2. How will changes be made/tracked?\n",
    "3. What are your requirements for commit messages?\n",
    "4. How do you expect people to work on their portions of the projects (using branches/merges)?\n",
    "\n",
    "In the cell below, write down the guidelines for your proposed workflow, making sure to account for all of the items mentioned above.\n"
   ]
  },
  {
   "cell_type": "markdown",
   "metadata": {
    "id": "GFkl_ExSWFv7"
   },
   "source": [
    "1. Each person on the project will be assigned specific tasks that need to be completed in relation to the development of the project, as well as another group member whose contributions they will be repsonsible for reviewing. This ensures that everyone is putting forth an equal amount of work as well as having the changes they make reviewed by another person to check for any bugs or errors that may arrise. Working on projects in the past, I've found that having another set of eyes on my code will often catch bugs that I was not able to forsee during development.\n",
    "2. Changes will be made and tracked through the git software and a public github repository. There will be a main repository that holds the project files, and three branches within the repository: main, developing, and testing. Code on the main branch should be fully tested and ensured that it is a helpful addition to the project. The main branch essentially is the current fully working version of the project. The developing branch is a space for group members to pull code we know is working from the main branch, and then add new features or revisions. Once the changes have been made, they should be commited for testing. That leaves the testing branch, where developers can pull new changes from the developing branch and write a number of tests to ensure that the new features are working entirely. The general idea is write code and commit to developing, pull that code, test it, and commit the tests to testing, if the tests pass and the code is good, add it to the main branch of the repository.\n",
    "3. Commit messages must be succint but as detailed as possible. Commit messages should not be paragraphs of text, they should, ideally, be one (two, absoulte maximum) sentence(s) describing the purpose of the commit, and what is being commited. This will allow other developers to have a good idea of what group members are contributing, without having to view the entire commit.\n",
    "4. I kind of mentioned this above, but the three branch workflow idea seems solid. There is room for other branches as well, wherever the need may arrise. One example could be a branch for presentation/paper files, used for commiting text files that present and review the project for communication purposes. However, this issue may be solved in an easier fashion by just commiting these files to a specific folder in the repository. But again, the general idea is develop -> test -> merge to the main branch. Keeping branches separate allows for effective development and will prevent bad code from being added to the main project, as well as developers making changes that will clash with other features currently being created."
   ]
  },
  {
   "cell_type": "markdown",
   "metadata": {
    "id": "Jvto9V5XWBHu"
   },
   "source": [
    "\n",
    "\n",
    "\n",
    "## 1.2 Testing Your Workflow (10 points)\n",
    "\n",
    "In the cell(s) below, demonstrate that your workflow works by performing (or answering) the following tests:\n",
    "\n",
    "1. A new person is joining your team, but they have never coded before and are concerned about making changes that might break your code. According to your workflow, what should their role be, and how should they make changes to the code?\n",
    "2. Using vi (or your favorite text editor), create a file called paper_draft.txt. Following your workflow, make and commit changes to that file. Copy and paste any command line interface commands you use in the cell below.\n",
    "\n",
    "\n",
    "\n",
    "\n"
   ]
  },
  {
   "cell_type": "markdown",
   "metadata": {
    "id": "oOFbq1cLZZWR"
   },
   "source": [
    "1. In order to account for novice programmers, simpler tasks can be assigned, as well as simpler code reviews. In this case, it is possible to waive the requirement to review others' code entirely. Even experienced developers will make mistakes, so there should be no fear of making changes that will break the code. Those changes will be reviewed by someone who is more experienced, and errors will be caught. This is another benefit of branching, as the code they write won't even be commited to the actual project until it is ensured by other group members that it is working.\n",
    "2. This is a relatively trivial task, a simple file creation, add it to the project, and commit it. Just have to ensure the user is in the proper branch. It is done with the following commands:\n",
    " - touch paper_draft.txt\n",
    " - vi paper_draft.txt\n",
    " - < make changes to the file >\n",
    " - git add paper_draft.txt\n",
    " - git commit -a -m \"Adding first draft of the paper.\"\n",
    " - git push"
   ]
  },
  {
   "cell_type": "code",
   "execution_count": 1,
   "metadata": {
    "id": "Cyo2eBLHZeWW"
   },
   "outputs": [],
   "source": [
    "# put any code here (feel free to add additional cells)"
   ]
  },
  {
   "cell_type": "markdown",
   "metadata": {
    "id": "ZRnZNfSsXRIv"
   },
   "source": [
    "## 1.3 Reflecting (10 points)\n",
    "\n",
    "Answer the following questions in the cell below about your workflow:\n",
    "\n",
    "1. What challenges/bugs did you run into when testing your workflow? How might you design for them in the future?\n",
    "2. What worked well with your workflow?"
   ]
  },
  {
   "cell_type": "markdown",
   "metadata": {
    "id": "Lr1LmKb9aSdm"
   },
   "source": [
    "1. **Originally, I didn't account for a place to put non-code project files, such as text files for communication, or other things like data files. I think there is room for more branches and organization in the workflow. I had to ammend my original statement to include stuff like this. Also, I didn't account for novice programmers, but I think the workflow design does a good job handling it. In the future, I think I will need to account for the aforementioned issues, as well as possibly revising my standards for commit messages.**\n",
    "2. **I think the main three branches that I mentioned are the best part about the workflow design. It establishes a system of checks and balances, ensures developers are contributing their fair share, and keeps bad code off the main branch of the repository.**"
   ]
  },
  {
   "cell_type": "markdown",
   "metadata": {
    "id": "cImTyMz-W_jX"
   },
   "source": [
    "## &#128721; STOP **COMMIT YOUR WORK TO GIT NOW**\n",
    "\n",
    "You should commit early and often, but at least do it after you complete each homework problem. \n",
    "\n",
    "Make sure to use meaningful commit messages that indicate the changes you have made!"
   ]
  },
  {
   "cell_type": "markdown",
   "metadata": {
    "id": "CPTa3YYWYjJG"
   },
   "source": [
    "# Part 2: Debugging Code (30 points total)\n",
    "\n",
    "Bugs are a part of life in writing code. They do not mean you are not making progress at coding. However, you can employ various debugging strategies to help you work through bugs efficiently and confidently.\n",
    "\n",
    "## 2.1 Helping a CMSE 201 Student (10 points)\n",
    "\n",
    "In the cell below, explain debugging to a CMSE 201 student, and describe the process you would recommend they use to debug their code. You must include how you would solve the various types of bugs you can encounter while coding. Remember all of the resources you can use in CMSE 201/202 (particularly Google or other search engines!).\n",
    "\n"
   ]
  },
  {
   "cell_type": "markdown",
   "metadata": {
    "id": "UslFH5ffbX80"
   },
   "source": [
    "**Debugging code is the process of reviewing the software you write to solve any errors that arrise. There are two major types of errors in programming, errors with how the code is behaving, and errors with how you have written the code. If you don't follow the syntax rules of the language you are writing in, this wil cause your code to fail, and you must debug. This can come from misusing a function and its parameters, incorrect keywords, or using reserved variable names (SyntaxError), etc, but it can also be from accessing memory outside of the allocated location (IndexError) or using the wrong object type (TypeError), among many other scenarios. Similarly, if your code runs and is syntactically sound, but it isn't producing the output you expected, you have to go through and figure out what is causing the unexpected behavior. In both of these situations, there are a number of techniques you can deploy to figure out what is going wrong. The first, and arguably the most useful, is using a search engine. Chances are, someone out in the world has run into the same (or a very similar) issue as you, and they have asked for help online. Googling your error type can often lead you to a solution on how to fix it. If that doesn't work, however, another handy tool is printing to the console. Almost every programming language has a built in function to print text and other values to the console. Adding print statements throughout your code will allow you to see what values are being passed around throughout the lifespan of the application. This can often lead to figuring out what is breaking the code, or why it isn't behaving as intended. Lastly, more experienced developers can make use of text editors with a built in debugging software. Debuggers are an incredibly useful tool that can step through your code line by line, stop at specified points, and highlights what values are currently being stored and used by the program. This is my favorite method to use, and it has saved me a lot of time and headache in the past when working on projects.**"
   ]
  },
  {
   "cell_type": "markdown",
   "metadata": {
    "id": "91ouG6LrbYAZ"
   },
   "source": [
    "## 2.2 Working Through Bugs (20 points total)\n",
    "\n",
    "### 2.2.1 A Squirrelly Situation (10 points)\n",
    "\n",
    "Run the code in the cell below. There is (at least) 1 bug to find and fix! Complete the following questions:\n",
    "\n",
    "1. Apply your debugging process to solve the bug(s) (showing the corrected code).\n",
    "2. Did your process work? If so, continue to the next problem. If not, describe why and indicate any changes you would make to your process.\n",
    "\n",
    "\n"
   ]
  },
  {
   "cell_type": "code",
   "execution_count": 2,
   "metadata": {
    "colab": {
     "base_uri": "https://localhost:8080/"
    },
    "id": "QDp4prBRg9Wn",
    "outputId": "0bddf470-9d92-4f7e-e8c4-39b3a83b4e2f"
   },
   "outputs": [
    {
     "name": "stdout",
     "output_type": "stream",
     "text": [
      "13\n"
     ]
    }
   ],
   "source": [
    "# function that returns a random number of squirrels spotted between 0 and the limit\n",
    "def squirrel_spotting_simulation(limit=15):\n",
    "    import numpy as np\n",
    "    random_squirrels = np.random.randint(limit)\n",
    "    return random_squirrels\n",
    "\n",
    "# initialize number of squirrels\n",
    "squirrel_count = 0\n",
    "# initialize number of time steps\n",
    "t = 0\n",
    "\n",
    "# loop until the observer reaches a maximum of 100 squirrels spotted\n",
    "while squirrel_count <= 100:\n",
    "    # use our function to generate a random number of squirrels spotted\n",
    "    increment = squirrel_spotting_simulation(15)\n",
    "    # increment the number of time steps by 1\n",
    "    t+=1\n",
    "    # add the number of random squirrels this time step to the total number\n",
    "    squirrel_count+=increment\n",
    "\n",
    "# print the total number of timesteps it took\n",
    "print(t)"
   ]
  },
  {
   "cell_type": "markdown",
   "metadata": {
    "id": "9DFy6pqkg84W"
   },
   "source": [
    "<font size=+3>&#9998;</font> **The first thing I did was run the code, and it revealed that there wasn't a specific syntax issue, as the cell ran fine. Then, I went through line by line, looking for something that might cause the unexpected behavior. The first issue was in the function, as the random number was being generated from 1-10 and not 1-the given limit. Other than that, there didn't seem to be any bugs in the code. The process seemed to work well.**"
   ]
  },
  {
   "cell_type": "markdown",
   "metadata": {
    "id": "v3dwJ0nueFJ9"
   },
   "source": [
    "## 2.2.2 Plotting and Scheming\n",
    "\n",
    "Run the code in the cell below, then answer the following questions:\n",
    "\n",
    "\n",
    "1. Apply your debugging process to solve the bug (showing the corrected code).\n",
    "2. Did your process work? If so, continue to the next problem. If not, describe why and indicate any changes you would make to your process."
   ]
  },
  {
   "cell_type": "code",
   "execution_count": 3,
   "metadata": {
    "id": "KvwNCSVWtEhP"
   },
   "outputs": [
    {
     "data": {
      "image/png": "[encoded data removed]",
      "text/plain": [
       "<Figure size 432x288 with 1 Axes>"
      ]
     },
     "metadata": {
      "needs_background": "light"
     },
     "output_type": "display_data"
    }
   ],
   "source": [
    "# code to plot two randomly generated data sets (sin and cos) on one plot\n",
    "\n",
    "import matplotlib.pyplot as plt\n",
    "import numpy as np\n",
    "\n",
    "# generate some x data: sixty data points from 0 to 4π\n",
    "x_sin = np.linspace(0,4*np.pi,60)\n",
    "\n",
    "# generate some y data: 1.5 * sin(1.2x + 0.5)\n",
    "# we add the np.random.normal(0.25,.25,60) at the end to add some randomness to the data\n",
    "y_sin = 1.5 * np.sin(1.2 * x_sin + 0.5) + np.random.normal(.25,.25,60)\n",
    "\n",
    "y_cos = 1.5 * np.cos(1.2 * x_sin + 0.5) + np.random.normal(.25,.25,60)\n",
    "# plot our data\n",
    "plt.scatter(x_sin, y_sin, label = \"sin data\")\n",
    "plt.scatter(x_sin, y_cos, label = \"cos data\")\n",
    "plt.xlabel('x')\n",
    "plt.ylabel('y')\n",
    "plt.legend()\n",
    "plt.show()"
   ]
  },
  {
   "cell_type": "markdown",
   "metadata": {
    "id": "gdi1OLFurcgn"
   },
   "source": [
    "**Again, the first thing I did was run the cell. It worked fine so no syntax errors. So now, I go through the code line by line. The first thing I ran into is an error in the math equation, the 0.5 was not being added in the parentheses of either equation. Next, I noticed that the plotting lines for the cos data and the legend were included after plt.show(). This was causing the data to be plotted on separate figures, and the legend to not show up. Again, the process worked well. Both of the errors that needed debugging in the past two problems seemed simple enough to just go over the code without needing print statements or Google.**"
   ]
  },
  {
   "cell_type": "markdown",
   "metadata": {
    "id": "w0jXfIeUpgty"
   },
   "source": [
    "## &#128721; STOP **COMMIT YOUR WORK TO GIT NOW**\n",
    "\n",
    "You should commit early and often, but at least do it after you complete each homework problem."
   ]
  },
  {
   "cell_type": "markdown",
   "metadata": {
    "id": "-y69UHzUdSEp"
   },
   "source": [
    "# Part 3: New Packages (25 points total)\n",
    "\n",
    "In Part 1, you developed a workflow for the project your team is working on. One of your team members found this package that will help with some of the visualizations, however you discover that you don't currently have this package installed. \n",
    "\n",
    "A quick Google search tells you that the plotly Python library is an interactive, open-source plotting library that supports over 40 unique chart types covering a wide range of statistical, financial, geographic, scientific, and 3-dimensional use-cases. Sounds great, let's figure this out!\n",
    "\n",
    "## 3.1 Install Package using CLI\n",
    "You remember from class that you can install packages using the command line. Using your terminal, install the plotly package, then answer the following questions.\n",
    "\n",
    "### 3.1.1 (5 points): \n",
    "\n",
    "In the cell below, write down the command you used to install the package. "
   ]
  },
  {
   "cell_type": "markdown",
   "metadata": {
    "id": "fPWkcX5F0Xnw"
   },
   "source": [
    "<font size=6 color=\"#009600\">&#9998;</font> **pip install plotly==5.13.0**"
   ]
  },
  {
   "cell_type": "markdown",
   "metadata": {},
   "source": [
    "# IMPORTANT NOTE\n",
    "\n",
    "Particularly if you are using JupyterHub, you may get a message similar to this one in your terminal:\n",
    "\n",
    "![package_exists.jpg](https://raw.githubusercontent.com/msu-cmse-courses/cmse202-S23-data/main//HW/HW1/package_exists.jpg)\n",
    "\n",
    "This means that the package has already been installed. If that is the case, you still need to provide the command you *would* use to install the package above, and then proceed to the rest of this problem.\n"
   ]
  },
  {
   "cell_type": "markdown",
   "metadata": {
    "id": "NUzK-Xa-0Fid"
   },
   "source": [
    "### 3.2 Reading Package Documentation\n",
    "\n",
    "Now that you've installed Plotly, its time to explore the package! What can this package do? The best place to find this information is in the [documentation](https://plotly.com/). \n",
    "\n",
    "### 3.2.1 (10 points): \n",
    "\n",
    "Answer the following questions:\n",
    "1. What kind of package is Plotly? (e.g. Mathematical, Graphing, Statistical, etc.)?  \n",
    "2. How many different tabs exist in the Plotly Open Source Graphing Libraries?\n",
    "3. When would you use Plotly?\n",
    "4. Are there any packages you know that are similar to plotly?\n",
    "5. What are some different charts/plots you can create with Plotly?\n"
   ]
  },
  {
   "cell_type": "markdown",
   "metadata": {
    "id": "wr6SQ5kI_lrz"
   },
   "source": [
    "<font size=6 color=\"#009600\">&#9998;</font>\n",
    "1. **Plotly is a graphing package with statistical, financial, geographic, scientific, and 3-dimensional applications.**\n",
    "2. **There are 8 different tabs over a range of different programming languages, such as JavaScript, Julia, R, and F#.**\n",
    "3. **Plotly is useful for high quality, interactive graphs and charts over a range of disciplines, especially the ones mentioned above such as statistics and finances.**\n",
    "4. **From my experience, Matplotlib and Seaborn are similar packages to Plotly. Matplotlib is a basic plotting tool with a lot of helpful features, and Seaborn takes it kind of a step higher and gives users more functionality and design to add to their charts.**\n",
    "5. **You can create a ton of different plots, everything from scatter and line plots, to bar and violin graphs, to heatmaps and histograms.**"
   ]
  },
  {
   "cell_type": "markdown",
   "metadata": {
    "id": "vPiM9hCV_lKw"
   },
   "source": [
    "### 3.3 Using The New Package\n",
    "Finally, it's time to use the newly installed package! Pick a dataset from the [data package](https://plotly.com/python-api-reference/generated/plotly.data.html) that is a part of Plotly. \n",
    "\n",
    "\n",
    "### 3.3.1 (10 points):\n",
    "\n",
    "Create a graph using one of these datasets. You can use the documentation for inspiration, but try to change the variables around so you get to really experience the package! Make sure to include titles and axis labels!\n",
    "\n"
   ]
  },
  {
   "cell_type": "code",
   "execution_count": 18,
   "metadata": {},
   "outputs": [
    {
     "data": {
      "application/vnd.plotly.v1+json": {
       "config": {
        "plotlyServerURL": "https://plot.ly"
       },
       "data": [
        {
         "hovertemplate": "date=%{x}<br>GOOG=%{y}<extra></extra>",
         "legendgroup": "",
         "line": {
          "color": "#000000",
          "dash": "solid"
         },
         "marker": {
          "symbol": "circle"
         },
         "mode": "lines",
         "name": "",
         "orientation": "v",
         "showlegend": false,
         "type": "scatter",
         "x": [
          "2018-01-01",
          "2018-01-08",
          "2018-01-15",
          "2018-01-22",
          "2018-01-29",
          "2018-02-05",
          "2018-02-12",
          "2018-02-19",
          "2018-02-26",
          "2018-03-05",
          "2018-03-12",
          "2018-03-19",
          "2018-03-26",
          "2018-04-02",
          "2018-04-09",
          "2018-04-16",
          "2018-04-23",
          "2018-04-30",
          "2018-05-07",
          "2018-05-14",
          "2018-05-21",
          "2018-05-28",
          "2018-06-04",
          "2018-06-11",
          "2018-06-18",
          "2018-06-25",
          "2018-07-02",
          "2018-07-09",
          "2018-07-16",
          "2018-07-23",
          "2018-07-30",
          "2018-08-06",
          "2018-08-13",
          "2018-08-20",
          "2018-08-27",
          "2018-09-03",
          "2018-09-10",
          "2018-09-17",
          "2018-09-24",
          "2018-10-01",
          "2018-10-08",
          "2018-10-15",
          "2018-10-22",
          "2018-10-29",
          "2018-11-05",
          "2018-11-12",
          "2018-11-19",
          "2018-11-26",
          "2018-12-03",
          "2018-12-10",
          "2018-12-17",
          "2018-12-24",
          "2018-12-31",
          "2019-01-07",
          "2019-01-14",
          "2019-01-21",
          "2019-01-28",
          "2019-02-04",
          "2019-02-11",
          "2019-02-18",
          "2019-02-25",
          "2019-03-04",
          "2019-03-11",
          "2019-03-18",
          "2019-03-25",
          "2019-04-01",
          "2019-04-08",
          "2019-04-15",
          "2019-04-22",
          "2019-04-29",
          "2019-05-06",
          "2019-05-13",
          "2019-05-20",
          "2019-05-27",
          "2019-06-03",
          "2019-06-10",
          "2019-06-17",
          "2019-06-24",
          "2019-07-01",
          "2019-07-08",
          "2019-07-15",
          "2019-07-22",
          "2019-07-29",
          "2019-08-05",
          "2019-08-12",
          "2019-08-19",
          "2019-08-26",
          "2019-09-02",
          "2019-09-09",
          "2019-09-16",
          "2019-09-23",
          "2019-09-30",
          "2019-10-07",
          "2019-10-14",
          "2019-10-21",
          "2019-10-28",
          "2019-11-04",
          "2019-11-11",
          "2019-11-18",
          "2019-11-25",
          "2019-12-02",
          "2019-12-09",
          "2019-12-16",
          "2019-12-23",
          "2019-12-30"
         ],
         "xaxis": "x",
         "y": [
          1,
          1.018172278347936,
          1.032007866452698,
          1.066782783389724,
          1.0087731636550117,
          0.9415276737437316,
          0.99325918262539,
          1.0222821547641083,
          0.9788520214265992,
          1.0524482730908842,
          1.0303929312465263,
          0.926821104067592,
          0.9360932452590338,
          0.913638710861412,
          0.93380695379017,
          0.9734447261178653,
          0.9345146364100892,
          0.9509902470625956,
          0.9963982380519172,
          0.9674568868105002,
          0.9758943718805396,
          1.015668254641377,
          1.0169111849053498,
          1.0453898287179595,
          1.0483111519067918,
          1.0121753574512644,
          1.0344211867653972,
          1.0785588920381208,
          1.075011617811375,
          1.1236312044424703,
          1.1102129167272332,
          1.1228237368393843,
          1.0895729410299655,
          1.1074367837463466,
          1.1052048693141154,
          1.0567939333314087,
          1.0637798374890872,
          1.0579370795194665,
          1.0827776350267664,
          1.0500077089175164,
          1.007121903906116,
          0.9947651405743836,
          0.9720929301886708,
          0.959681788913054,
          0.9672663993407256,
          0.9630385756700248,
          0.9289168536315806,
          0.992923504040418,
          0.9404389054995582,
          0.945446952912676,
          0.8886892896888904,
          0.9408925313390586,
          0.9714034098401132,
          0.9591373489949891,
          0.9963982380519172,
          0.989802500200548,
          1.0077298024501202,
          0.9934950771344468,
          1.0103608540932627,
          1.0073850422758417,
          1.035165084150587,
          1.0363716889645844,
          1.0746032883264525,
          1.0936918990354445,
          1.064487521016258,
          1.095188886079836,
          1.1049145977684258,
          1.1216987538299403,
          1.1541874899828073,
          1.075456162061569,
          1.0562859304552756,
          1.0544986709579427,
          1.0283425342867192,
          1.001270175031893,
          0.9671666152648106,
          0.98468558802946,
          1.0178275181736574,
          0.980657443195294,
          1.0266368965939394,
          1.0387124690620373,
          1.025285100664745,
          1.1344366027859267,
          1.0832494231376286,
          1.0778240762422375,
          1.068379555417282,
          1.0445098208996275,
          1.0779056980467905,
          1.0931748145700046,
          1.12459294475006,
          1.115856106545024,
          1.1114649285805127,
          1.0968672799119472,
          1.10271900878617,
          1.129972884606169,
          1.1477913211905195,
          1.155602744537941,
          1.189742629754999,
          1.2110630442115171,
          1.1751993590303178,
          1.183927115646047,
          1.216279741365772,
          1.222820990588552,
          1.22441776261611,
          1.2265044859331442,
          1.213013658002661
         ],
         "yaxis": "y"
        }
       ],
       "layout": {
        "legend": {
         "tracegroupgap": 0
        },
        "template": {
         "data": {
          "bar": [
           {
            "error_x": {
             "color": "#2a3f5f"
            },
            "error_y": {
             "color": "#2a3f5f"
            },
            "marker": {
             "line": {
              "color": "#E5ECF6",
              "width": 0.5
             },
             "pattern": {
              "fillmode": "overlay",
              "size": 10,
              "solidity": 0.2
             }
            },
            "type": "bar"
           }
          ],
          "barpolar": [
           {
            "marker": {
             "line": {
              "color": "#E5ECF6",
              "width": 0.5
             },
             "pattern": {
              "fillmode": "overlay",
              "size": 10,
              "solidity": 0.2
             }
            },
            "type": "barpolar"
           }
          ],
          "carpet": [
           {
            "aaxis": {
             "endlinecolor": "#2a3f5f",
             "gridcolor": "white",
             "linecolor": "white",
             "minorgridcolor": "white",
             "startlinecolor": "#2a3f5f"
            },
            "baxis": {
             "endlinecolor": "#2a3f5f",
             "gridcolor": "white",
             "linecolor": "white",
             "minorgridcolor": "white",
             "startlinecolor": "#2a3f5f"
            },
            "type": "carpet"
           }
          ],
          "choropleth": [
           {
            "colorbar": {
             "outlinewidth": 0,
             "ticks": ""
            },
            "type": "choropleth"
           }
          ],
          "contour": [
           {
            "colorbar": {
             "outlinewidth": 0,
             "ticks": ""
            },
            "colorscale": [
             [
              0,
              "#0d0887"
             ],
             [
              0.1111111111111111,
              "#46039f"
             ],
             [
              0.2222222222222222,
              "#7201a8"
             ],
             [
              0.3333333333333333,
              "#9c179e"
             ],
             [
              0.4444444444444444,
              "#bd3786"
             ],
             [
              0.5555555555555556,
              "#d8576b"
             ],
             [
              0.6666666666666666,
              "#ed7953"
             ],
             [
              0.7777777777777778,
              "#fb9f3a"
             ],
             [
              0.8888888888888888,
              "#fdca26"
             ],
             [
              1,
              "#f0f921"
             ]
            ],
            "type": "contour"
           }
          ],
          "contourcarpet": [
           {
            "colorbar": {
             "outlinewidth": 0,
             "ticks": ""
            },
            "type": "contourcarpet"
           }
          ],
          "heatmap": [
           {
            "colorbar": {
             "outlinewidth": 0,
             "ticks": ""
            },
            "colorscale": [
             [
              0,
              "#0d0887"
             ],
             [
              0.1111111111111111,
              "#46039f"
             ],
             [
              0.2222222222222222,
              "#7201a8"
             ],
             [
              0.3333333333333333,
              "#9c179e"
             ],
             [
              0.4444444444444444,
              "#bd3786"
             ],
             [
              0.5555555555555556,
              "#d8576b"
             ],
             [
              0.6666666666666666,
              "#ed7953"
             ],
             [
              0.7777777777777778,
              "#fb9f3a"
             ],
             [
              0.8888888888888888,
              "#fdca26"
             ],
             [
              1,
              "#f0f921"
             ]
            ],
            "type": "heatmap"
           }
          ],
          "heatmapgl": [
           {
            "colorbar": {
             "outlinewidth": 0,
             "ticks": ""
            },
            "colorscale": [
             [
              0,
              "#0d0887"
             ],
             [
              0.1111111111111111,
              "#46039f"
             ],
             [
              0.2222222222222222,
              "#7201a8"
             ],
             [
              0.3333333333333333,
              "#9c179e"
             ],
             [
              0.4444444444444444,
              "#bd3786"
             ],
             [
              0.5555555555555556,
              "#d8576b"
             ],
             [
              0.6666666666666666,
              "#ed7953"
             ],
             [
              0.7777777777777778,
              "#fb9f3a"
             ],
             [
              0.8888888888888888,
              "#fdca26"
             ],
             [
              1,
              "#f0f921"
             ]
            ],
            "type": "heatmapgl"
           }
          ],
          "histogram": [
           {
            "marker": {
             "pattern": {
              "fillmode": "overlay",
              "size": 10,
              "solidity": 0.2
             }
            },
            "type": "histogram"
           }
          ],
          "histogram2d": [
           {
            "colorbar": {
             "outlinewidth": 0,
             "ticks": ""
            },
            "colorscale": [
             [
              0,
              "#0d0887"
             ],
             [
              0.1111111111111111,
              "#46039f"
             ],
             [
              0.2222222222222222,
              "#7201a8"
             ],
             [
              0.3333333333333333,
              "#9c179e"
             ],
             [
              0.4444444444444444,
              "#bd3786"
             ],
             [
              0.5555555555555556,
              "#d8576b"
             ],
             [
              0.6666666666666666,
              "#ed7953"
             ],
             [
              0.7777777777777778,
              "#fb9f3a"
             ],
             [
              0.8888888888888888,
              "#fdca26"
             ],
             [
              1,
              "#f0f921"
             ]
            ],
            "type": "histogram2d"
           }
          ],
          "histogram2dcontour": [
           {
            "colorbar": {
             "outlinewidth": 0,
             "ticks": ""
            },
            "colorscale": [
             [
              0,
              "#0d0887"
             ],
             [
              0.1111111111111111,
              "#46039f"
             ],
             [
              0.2222222222222222,
              "#7201a8"
             ],
             [
              0.3333333333333333,
              "#9c179e"
             ],
             [
              0.4444444444444444,
              "#bd3786"
             ],
             [
              0.5555555555555556,
              "#d8576b"
             ],
             [
              0.6666666666666666,
              "#ed7953"
             ],
             [
              0.7777777777777778,
              "#fb9f3a"
             ],
             [
              0.8888888888888888,
              "#fdca26"
             ],
             [
              1,
              "#f0f921"
             ]
            ],
            "type": "histogram2dcontour"
           }
          ],
          "mesh3d": [
           {
            "colorbar": {
             "outlinewidth": 0,
             "ticks": ""
            },
            "type": "mesh3d"
           }
          ],
          "parcoords": [
           {
            "line": {
             "colorbar": {
              "outlinewidth": 0,
              "ticks": ""
             }
            },
            "type": "parcoords"
           }
          ],
          "pie": [
           {
            "automargin": true,
            "type": "pie"
           }
          ],
          "scatter": [
           {
            "fillpattern": {
             "fillmode": "overlay",
             "size": 10,
             "solidity": 0.2
            },
            "type": "scatter"
           }
          ],
          "scatter3d": [
           {
            "line": {
             "colorbar": {
              "outlinewidth": 0,
              "ticks": ""
             }
            },
            "marker": {
             "colorbar": {
              "outlinewidth": 0,
              "ticks": ""
             }
            },
            "type": "scatter3d"
           }
          ],
          "scattercarpet": [
           {
            "marker": {
             "colorbar": {
              "outlinewidth": 0,
              "ticks": ""
             }
            },
            "type": "scattercarpet"
           }
          ],
          "scattergeo": [
           {
            "marker": {
             "colorbar": {
              "outlinewidth": 0,
              "ticks": ""
             }
            },
            "type": "scattergeo"
           }
          ],
          "scattergl": [
           {
            "marker": {
             "colorbar": {
              "outlinewidth": 0,
              "ticks": ""
             }
            },
            "type": "scattergl"
           }
          ],
          "scattermapbox": [
           {
            "marker": {
             "colorbar": {
              "outlinewidth": 0,
              "ticks": ""
             }
            },
            "type": "scattermapbox"
           }
          ],
          "scatterpolar": [
           {
            "marker": {
             "colorbar": {
              "outlinewidth": 0,
              "ticks": ""
             }
            },
            "type": "scatterpolar"
           }
          ],
          "scatterpolargl": [
           {
            "marker": {
             "colorbar": {
              "outlinewidth": 0,
              "ticks": ""
             }
            },
            "type": "scatterpolargl"
           }
          ],
          "scatterternary": [
           {
            "marker": {
             "colorbar": {
              "outlinewidth": 0,
              "ticks": ""
             }
            },
            "type": "scatterternary"
           }
          ],
          "surface": [
           {
            "colorbar": {
             "outlinewidth": 0,
             "ticks": ""
            },
            "colorscale": [
             [
              0,
              "#0d0887"
             ],
             [
              0.1111111111111111,
              "#46039f"
             ],
             [
              0.2222222222222222,
              "#7201a8"
             ],
             [
              0.3333333333333333,
              "#9c179e"
             ],
             [
              0.4444444444444444,
              "#bd3786"
             ],
             [
              0.5555555555555556,
              "#d8576b"
             ],
             [
              0.6666666666666666,
              "#ed7953"
             ],
             [
              0.7777777777777778,
              "#fb9f3a"
             ],
             [
              0.8888888888888888,
              "#fdca26"
             ],
             [
              1,
              "#f0f921"
             ]
            ],
            "type": "surface"
           }
          ],
          "table": [
           {
            "cells": {
             "fill": {
              "color": "#EBF0F8"
             },
             "line": {
              "color": "white"
             }
            },
            "header": {
             "fill": {
              "color": "#C8D4E3"
             },
             "line": {
              "color": "white"
             }
            },
            "type": "table"
           }
          ]
         },
         "layout": {
          "annotationdefaults": {
           "arrowcolor": "#2a3f5f",
           "arrowhead": 0,
           "arrowwidth": 1
          },
          "autotypenumbers": "strict",
          "coloraxis": {
           "colorbar": {
            "outlinewidth": 0,
            "ticks": ""
           }
          },
          "colorscale": {
           "diverging": [
            [
             0,
             "#8e0152"
            ],
            [
             0.1,
             "#c51b7d"
            ],
            [
             0.2,
             "#de77ae"
            ],
            [
             0.3,
             "#f1b6da"
            ],
            [
             0.4,
             "#fde0ef"
            ],
            [
             0.5,
             "#f7f7f7"
            ],
            [
             0.6,
             "#e6f5d0"
            ],
            [
             0.7,
             "#b8e186"
            ],
            [
             0.8,
             "#7fbc41"
            ],
            [
             0.9,
             "#4d9221"
            ],
            [
             1,
             "#276419"
            ]
           ],
           "sequential": [
            [
             0,
             "#0d0887"
            ],
            [
             0.1111111111111111,
             "#46039f"
            ],
            [
             0.2222222222222222,
             "#7201a8"
            ],
            [
             0.3333333333333333,
             "#9c179e"
            ],
            [
             0.4444444444444444,
             "#bd3786"
            ],
            [
             0.5555555555555556,
             "#d8576b"
            ],
            [
             0.6666666666666666,
             "#ed7953"
            ],
            [
             0.7777777777777778,
             "#fb9f3a"
            ],
            [
             0.8888888888888888,
             "#fdca26"
            ],
            [
             1,
             "#f0f921"
            ]
           ],
           "sequentialminus": [
            [
             0,
             "#0d0887"
            ],
            [
             0.1111111111111111,
             "#46039f"
            ],
            [
             0.2222222222222222,
             "#7201a8"
            ],
            [
             0.3333333333333333,
             "#9c179e"
            ],
            [
             0.4444444444444444,
             "#bd3786"
            ],
            [
             0.5555555555555556,
             "#d8576b"
            ],
            [
             0.6666666666666666,
             "#ed7953"
            ],
            [
             0.7777777777777778,
             "#fb9f3a"
            ],
            [
             0.8888888888888888,
             "#fdca26"
            ],
            [
             1,
             "#f0f921"
            ]
           ]
          },
          "colorway": [
           "#636efa",
           "#EF553B",
           "#00cc96",
           "#ab63fa",
           "#FFA15A",
           "#19d3f3",
           "#FF6692",
           "#B6E880",
           "#FF97FF",
           "#FECB52"
          ],
          "font": {
           "color": "#2a3f5f"
          },
          "geo": {
           "bgcolor": "white",
           "lakecolor": "white",
           "landcolor": "#E5ECF6",
           "showlakes": true,
           "showland": true,
           "subunitcolor": "white"
          },
          "hoverlabel": {
           "align": "left"
          },
          "hovermode": "closest",
          "mapbox": {
           "style": "light"
          },
          "paper_bgcolor": "white",
          "plot_bgcolor": "#E5ECF6",
          "polar": {
           "angularaxis": {
            "gridcolor": "white",
            "linecolor": "white",
            "ticks": ""
           },
           "bgcolor": "#E5ECF6",
           "radialaxis": {
            "gridcolor": "white",
            "linecolor": "white",
            "ticks": ""
           }
          },
          "scene": {
           "xaxis": {
            "backgroundcolor": "#E5ECF6",
            "gridcolor": "white",
            "gridwidth": 2,
            "linecolor": "white",
            "showbackground": true,
            "ticks": "",
            "zerolinecolor": "white"
           },
           "yaxis": {
            "backgroundcolor": "#E5ECF6",
            "gridcolor": "white",
            "gridwidth": 2,
            "linecolor": "white",
            "showbackground": true,
            "ticks": "",
            "zerolinecolor": "white"
           },
           "zaxis": {
            "backgroundcolor": "#E5ECF6",
            "gridcolor": "white",
            "gridwidth": 2,
            "linecolor": "white",
            "showbackground": true,
            "ticks": "",
            "zerolinecolor": "white"
           }
          },
          "shapedefaults": {
           "line": {
            "color": "#2a3f5f"
           }
          },
          "ternary": {
           "aaxis": {
            "gridcolor": "white",
            "linecolor": "white",
            "ticks": ""
           },
           "baxis": {
            "gridcolor": "white",
            "linecolor": "white",
            "ticks": ""
           },
           "bgcolor": "#E5ECF6",
           "caxis": {
            "gridcolor": "white",
            "linecolor": "white",
            "ticks": ""
           }
          },
          "title": {
           "x": 0.05
          },
          "xaxis": {
           "automargin": true,
           "gridcolor": "white",
           "linecolor": "white",
           "ticks": "",
           "title": {
            "standoff": 15
           },
           "zerolinecolor": "white",
           "zerolinewidth": 2
          },
          "yaxis": {
           "automargin": true,
           "gridcolor": "white",
           "linecolor": "white",
           "ticks": "",
           "title": {
            "standoff": 15
           },
           "zerolinecolor": "white",
           "zerolinewidth": 2
          }
         }
        },
        "title": {
         "text": "Closing Prices for Google Stock in 2018/19"
        },
        "xaxis": {
         "anchor": "y",
         "domain": [
          0,
          1
         ],
         "title": {
          "text": "Date"
         }
        },
        "yaxis": {
         "anchor": "x",
         "domain": [
          0,
          1
         ],
         "title": {
          "text": "GOOG Closing Price"
         }
        }
       }
      },
      "text/html": [
       "<div>                            <div id=\"48403a3c-e5f1-49d7-83b6-2d2015dc2e04\" class=\"plotly-graph-div\" style=\"height:525px; width:100%;\"></div>            <script type=\"text/javascript\">                require([\"plotly\"], function(Plotly) {                    window.PLOTLYENV=window.PLOTLYENV || {};                                    if (document.getElementById(\"48403a3c-e5f1-49d7-83b6-2d2015dc2e04\")) {                    Plotly.newPlot(                        \"48403a3c-e5f1-49d7-83b6-2d2015dc2e04\",                        [{\"hovertemplate\":\"date=%{x}<br>GOOG=%{y}<extra></extra>\",\"legendgroup\":\"\",\"line\":{\"color\":\"#000000\",\"dash\":\"solid\"},\"marker\":{\"symbol\":\"circle\"},\"mode\":\"lines\",\"name\":\"\",\"orientation\":\"v\",\"showlegend\":false,\"x\":[\"2018-01-01\",\"2018-01-08\",\"2018-01-15\",\"2018-01-22\",\"2018-01-29\",\"2018-02-05\",\"2018-02-12\",\"2018-02-19\",\"2018-02-26\",\"2018-03-05\",\"2018-03-12\",\"2018-03-19\",\"2018-03-26\",\"2018-04-02\",\"2018-04-09\",\"2018-04-16\",\"2018-04-23\",\"2018-04-30\",\"2018-05-07\",\"2018-05-14\",\"2018-05-21\",\"2018-05-28\",\"2018-06-04\",\"2018-06-11\",\"2018-06-18\",\"2018-06-25\",\"2018-07-02\",\"2018-07-09\",\"2018-07-16\",\"2018-07-23\",\"2018-07-30\",\"2018-08-06\",\"2018-08-13\",\"2018-08-20\",\"2018-08-27\",\"2018-09-03\",\"2018-09-10\",\"2018-09-17\",\"2018-09-24\",\"2018-10-01\",\"2018-10-08\",\"2018-10-15\",\"2018-10-22\",\"2018-10-29\",\"2018-11-05\",\"2018-11-12\",\"2018-11-19\",\"2018-11-26\",\"2018-12-03\",\"2018-12-10\",\"2018-12-17\",\"2018-12-24\",\"2018-12-31\",\"2019-01-07\",\"2019-01-14\",\"2019-01-21\",\"2019-01-28\",\"2019-02-04\",\"2019-02-11\",\"2019-02-18\",\"2019-02-25\",\"2019-03-04\",\"2019-03-11\",\"2019-03-18\",\"2019-03-25\",\"2019-04-01\",\"2019-04-08\",\"2019-04-15\",\"2019-04-22\",\"2019-04-29\",\"2019-05-06\",\"2019-05-13\",\"2019-05-20\",\"2019-05-27\",\"2019-06-03\",\"2019-06-10\",\"2019-06-17\",\"2019-06-24\",\"2019-07-01\",\"2019-07-08\",\"2019-07-15\",\"2019-07-22\",\"2019-07-29\",\"2019-08-05\",\"2019-08-12\",\"2019-08-19\",\"2019-08-26\",\"2019-09-02\",\"2019-09-09\",\"2019-09-16\",\"2019-09-23\",\"2019-09-30\",\"2019-10-07\",\"2019-10-14\",\"2019-10-21\",\"2019-10-28\",\"2019-11-04\",\"2019-11-11\",\"2019-11-18\",\"2019-11-25\",\"2019-12-02\",\"2019-12-09\",\"2019-12-16\",\"2019-12-23\",\"2019-12-30\"],\"xaxis\":\"x\",\"y\":[1.0,1.018172278347936,1.032007866452698,1.066782783389724,1.0087731636550117,0.9415276737437316,0.99325918262539,1.0222821547641083,0.9788520214265992,1.0524482730908842,1.0303929312465263,0.926821104067592,0.9360932452590338,0.913638710861412,0.93380695379017,0.9734447261178653,0.9345146364100892,0.9509902470625956,0.9963982380519172,0.9674568868105002,0.9758943718805396,1.015668254641377,1.0169111849053498,1.0453898287179595,1.0483111519067918,1.0121753574512644,1.0344211867653972,1.0785588920381208,1.075011617811375,1.1236312044424703,1.1102129167272332,1.1228237368393843,1.0895729410299655,1.1074367837463466,1.1052048693141154,1.0567939333314087,1.0637798374890872,1.0579370795194665,1.0827776350267664,1.0500077089175164,1.007121903906116,0.9947651405743836,0.9720929301886708,0.959681788913054,0.9672663993407256,0.9630385756700248,0.9289168536315806,0.992923504040418,0.9404389054995582,0.945446952912676,0.8886892896888904,0.9408925313390586,0.9714034098401132,0.9591373489949891,0.9963982380519172,0.989802500200548,1.0077298024501202,0.9934950771344468,1.0103608540932627,1.0073850422758417,1.035165084150587,1.0363716889645844,1.0746032883264525,1.0936918990354445,1.064487521016258,1.095188886079836,1.1049145977684258,1.1216987538299403,1.1541874899828073,1.075456162061569,1.0562859304552756,1.0544986709579427,1.0283425342867192,1.001270175031893,0.9671666152648106,0.98468558802946,1.0178275181736574,0.980657443195294,1.0266368965939394,1.0387124690620373,1.025285100664745,1.1344366027859267,1.0832494231376286,1.0778240762422375,1.068379555417282,1.0445098208996275,1.0779056980467905,1.0931748145700046,1.12459294475006,1.115856106545024,1.1114649285805127,1.0968672799119472,1.10271900878617,1.129972884606169,1.1477913211905195,1.155602744537941,1.189742629754999,1.2110630442115171,1.1751993590303178,1.183927115646047,1.216279741365772,1.222820990588552,1.22441776261611,1.2265044859331442,1.213013658002661],\"yaxis\":\"y\",\"type\":\"scatter\"}],                        {\"template\":{\"data\":{\"histogram2dcontour\":[{\"type\":\"histogram2dcontour\",\"colorbar\":{\"outlinewidth\":0,\"ticks\":\"\"},\"colorscale\":[[0.0,\"#0d0887\"],[0.1111111111111111,\"#46039f\"],[0.2222222222222222,\"#7201a8\"],[0.3333333333333333,\"#9c179e\"],[0.4444444444444444,\"#bd3786\"],[0.5555555555555556,\"#d8576b\"],[0.6666666666666666,\"#ed7953\"],[0.7777777777777778,\"#fb9f3a\"],[0.8888888888888888,\"#fdca26\"],[1.0,\"#f0f921\"]]}],\"choropleth\":[{\"type\":\"choropleth\",\"colorbar\":{\"outlinewidth\":0,\"ticks\":\"\"}}],\"histogram2d\":[{\"type\":\"histogram2d\",\"colorbar\":{\"outlinewidth\":0,\"ticks\":\"\"},\"colorscale\":[[0.0,\"#0d0887\"],[0.1111111111111111,\"#46039f\"],[0.2222222222222222,\"#7201a8\"],[0.3333333333333333,\"#9c179e\"],[0.4444444444444444,\"#bd3786\"],[0.5555555555555556,\"#d8576b\"],[0.6666666666666666,\"#ed7953\"],[0.7777777777777778,\"#fb9f3a\"],[0.8888888888888888,\"#fdca26\"],[1.0,\"#f0f921\"]]}],\"heatmap\":[{\"type\":\"heatmap\",\"colorbar\":{\"outlinewidth\":0,\"ticks\":\"\"},\"colorscale\":[[0.0,\"#0d0887\"],[0.1111111111111111,\"#46039f\"],[0.2222222222222222,\"#7201a8\"],[0.3333333333333333,\"#9c179e\"],[0.4444444444444444,\"#bd3786\"],[0.5555555555555556,\"#d8576b\"],[0.6666666666666666,\"#ed7953\"],[0.7777777777777778,\"#fb9f3a\"],[0.8888888888888888,\"#fdca26\"],[1.0,\"#f0f921\"]]}],\"heatmapgl\":[{\"type\":\"heatmapgl\",\"colorbar\":{\"outlinewidth\":0,\"ticks\":\"\"},\"colorscale\":[[0.0,\"#0d0887\"],[0.1111111111111111,\"#46039f\"],[0.2222222222222222,\"#7201a8\"],[0.3333333333333333,\"#9c179e\"],[0.4444444444444444,\"#bd3786\"],[0.5555555555555556,\"#d8576b\"],[0.6666666666666666,\"#ed7953\"],[0.7777777777777778,\"#fb9f3a\"],[0.8888888888888888,\"#fdca26\"],[1.0,\"#f0f921\"]]}],\"contourcarpet\":[{\"type\":\"contourcarpet\",\"colorbar\":{\"outlinewidth\":0,\"ticks\":\"\"}}],\"contour\":[{\"type\":\"contour\",\"colorbar\":{\"outlinewidth\":0,\"ticks\":\"\"},\"colorscale\":[[0.0,\"#0d0887\"],[0.1111111111111111,\"#46039f\"],[0.2222222222222222,\"#7201a8\"],[0.3333333333333333,\"#9c179e\"],[0.4444444444444444,\"#bd3786\"],[0.5555555555555556,\"#d8576b\"],[0.6666666666666666,\"#ed7953\"],[0.7777777777777778,\"#fb9f3a\"],[0.8888888888888888,\"#fdca26\"],[1.0,\"#f0f921\"]]}],\"surface\":[{\"type\":\"surface\",\"colorbar\":{\"outlinewidth\":0,\"ticks\":\"\"},\"colorscale\":[[0.0,\"#0d0887\"],[0.1111111111111111,\"#46039f\"],[0.2222222222222222,\"#7201a8\"],[0.3333333333333333,\"#9c179e\"],[0.4444444444444444,\"#bd3786\"],[0.5555555555555556,\"#d8576b\"],[0.6666666666666666,\"#ed7953\"],[0.7777777777777778,\"#fb9f3a\"],[0.8888888888888888,\"#fdca26\"],[1.0,\"#f0f921\"]]}],\"mesh3d\":[{\"type\":\"mesh3d\",\"colorbar\":{\"outlinewidth\":0,\"ticks\":\"\"}}],\"scatter\":[{\"fillpattern\":{\"fillmode\":\"overlay\",\"size\":10,\"solidity\":0.2},\"type\":\"scatter\"}],\"parcoords\":[{\"type\":\"parcoords\",\"line\":{\"colorbar\":{\"outlinewidth\":0,\"ticks\":\"\"}}}],\"scatterpolargl\":[{\"type\":\"scatterpolargl\",\"marker\":{\"colorbar\":{\"outlinewidth\":0,\"ticks\":\"\"}}}],\"bar\":[{\"error_x\":{\"color\":\"#2a3f5f\"},\"error_y\":{\"color\":\"#2a3f5f\"},\"marker\":{\"line\":{\"color\":\"#E5ECF6\",\"width\":0.5},\"pattern\":{\"fillmode\":\"overlay\",\"size\":10,\"solidity\":0.2}},\"type\":\"bar\"}],\"scattergeo\":[{\"type\":\"scattergeo\",\"marker\":{\"colorbar\":{\"outlinewidth\":0,\"ticks\":\"\"}}}],\"scatterpolar\":[{\"type\":\"scatterpolar\",\"marker\":{\"colorbar\":{\"outlinewidth\":0,\"ticks\":\"\"}}}],\"histogram\":[{\"marker\":{\"pattern\":{\"fillmode\":\"overlay\",\"size\":10,\"solidity\":0.2}},\"type\":\"histogram\"}],\"scattergl\":[{\"type\":\"scattergl\",\"marker\":{\"colorbar\":{\"outlinewidth\":0,\"ticks\":\"\"}}}],\"scatter3d\":[{\"type\":\"scatter3d\",\"line\":{\"colorbar\":{\"outlinewidth\":0,\"ticks\":\"\"}},\"marker\":{\"colorbar\":{\"outlinewidth\":0,\"ticks\":\"\"}}}],\"scattermapbox\":[{\"type\":\"scattermapbox\",\"marker\":{\"colorbar\":{\"outlinewidth\":0,\"ticks\":\"\"}}}],\"scatterternary\":[{\"type\":\"scatterternary\",\"marker\":{\"colorbar\":{\"outlinewidth\":0,\"ticks\":\"\"}}}],\"scattercarpet\":[{\"type\":\"scattercarpet\",\"marker\":{\"colorbar\":{\"outlinewidth\":0,\"ticks\":\"\"}}}],\"carpet\":[{\"aaxis\":{\"endlinecolor\":\"#2a3f5f\",\"gridcolor\":\"white\",\"linecolor\":\"white\",\"minorgridcolor\":\"white\",\"startlinecolor\":\"#2a3f5f\"},\"baxis\":{\"endlinecolor\":\"#2a3f5f\",\"gridcolor\":\"white\",\"linecolor\":\"white\",\"minorgridcolor\":\"white\",\"startlinecolor\":\"#2a3f5f\"},\"type\":\"carpet\"}],\"table\":[{\"cells\":{\"fill\":{\"color\":\"#EBF0F8\"},\"line\":{\"color\":\"white\"}},\"header\":{\"fill\":{\"color\":\"#C8D4E3\"},\"line\":{\"color\":\"white\"}},\"type\":\"table\"}],\"barpolar\":[{\"marker\":{\"line\":{\"color\":\"#E5ECF6\",\"width\":0.5},\"pattern\":{\"fillmode\":\"overlay\",\"size\":10,\"solidity\":0.2}},\"type\":\"barpolar\"}],\"pie\":[{\"automargin\":true,\"type\":\"pie\"}]},\"layout\":{\"autotypenumbers\":\"strict\",\"colorway\":[\"#636efa\",\"#EF553B\",\"#00cc96\",\"#ab63fa\",\"#FFA15A\",\"#19d3f3\",\"#FF6692\",\"#B6E880\",\"#FF97FF\",\"#FECB52\"],\"font\":{\"color\":\"#2a3f5f\"},\"hovermode\":\"closest\",\"hoverlabel\":{\"align\":\"left\"},\"paper_bgcolor\":\"white\",\"plot_bgcolor\":\"#E5ECF6\",\"polar\":{\"bgcolor\":\"#E5ECF6\",\"angularaxis\":{\"gridcolor\":\"white\",\"linecolor\":\"white\",\"ticks\":\"\"},\"radialaxis\":{\"gridcolor\":\"white\",\"linecolor\":\"white\",\"ticks\":\"\"}},\"ternary\":{\"bgcolor\":\"#E5ECF6\",\"aaxis\":{\"gridcolor\":\"white\",\"linecolor\":\"white\",\"ticks\":\"\"},\"baxis\":{\"gridcolor\":\"white\",\"linecolor\":\"white\",\"ticks\":\"\"},\"caxis\":{\"gridcolor\":\"white\",\"linecolor\":\"white\",\"ticks\":\"\"}},\"coloraxis\":{\"colorbar\":{\"outlinewidth\":0,\"ticks\":\"\"}},\"colorscale\":{\"sequential\":[[0.0,\"#0d0887\"],[0.1111111111111111,\"#46039f\"],[0.2222222222222222,\"#7201a8\"],[0.3333333333333333,\"#9c179e\"],[0.4444444444444444,\"#bd3786\"],[0.5555555555555556,\"#d8576b\"],[0.6666666666666666,\"#ed7953\"],[0.7777777777777778,\"#fb9f3a\"],[0.8888888888888888,\"#fdca26\"],[1.0,\"#f0f921\"]],\"sequentialminus\":[[0.0,\"#0d0887\"],[0.1111111111111111,\"#46039f\"],[0.2222222222222222,\"#7201a8\"],[0.3333333333333333,\"#9c179e\"],[0.4444444444444444,\"#bd3786\"],[0.5555555555555556,\"#d8576b\"],[0.6666666666666666,\"#ed7953\"],[0.7777777777777778,\"#fb9f3a\"],[0.8888888888888888,\"#fdca26\"],[1.0,\"#f0f921\"]],\"diverging\":[[0,\"#8e0152\"],[0.1,\"#c51b7d\"],[0.2,\"#de77ae\"],[0.3,\"#f1b6da\"],[0.4,\"#fde0ef\"],[0.5,\"#f7f7f7\"],[0.6,\"#e6f5d0\"],[0.7,\"#b8e186\"],[0.8,\"#7fbc41\"],[0.9,\"#4d9221\"],[1,\"#276419\"]]},\"xaxis\":{\"gridcolor\":\"white\",\"linecolor\":\"white\",\"ticks\":\"\",\"title\":{\"standoff\":15},\"zerolinecolor\":\"white\",\"automargin\":true,\"zerolinewidth\":2},\"yaxis\":{\"gridcolor\":\"white\",\"linecolor\":\"white\",\"ticks\":\"\",\"title\":{\"standoff\":15},\"zerolinecolor\":\"white\",\"automargin\":true,\"zerolinewidth\":2},\"scene\":{\"xaxis\":{\"backgroundcolor\":\"#E5ECF6\",\"gridcolor\":\"white\",\"linecolor\":\"white\",\"showbackground\":true,\"ticks\":\"\",\"zerolinecolor\":\"white\",\"gridwidth\":2},\"yaxis\":{\"backgroundcolor\":\"#E5ECF6\",\"gridcolor\":\"white\",\"linecolor\":\"white\",\"showbackground\":true,\"ticks\":\"\",\"zerolinecolor\":\"white\",\"gridwidth\":2},\"zaxis\":{\"backgroundcolor\":\"#E5ECF6\",\"gridcolor\":\"white\",\"linecolor\":\"white\",\"showbackground\":true,\"ticks\":\"\",\"zerolinecolor\":\"white\",\"gridwidth\":2}},\"shapedefaults\":{\"line\":{\"color\":\"#2a3f5f\"}},\"annotationdefaults\":{\"arrowcolor\":\"#2a3f5f\",\"arrowhead\":0,\"arrowwidth\":1},\"geo\":{\"bgcolor\":\"white\",\"landcolor\":\"#E5ECF6\",\"subunitcolor\":\"white\",\"showland\":true,\"showlakes\":true,\"lakecolor\":\"white\"},\"title\":{\"x\":0.05},\"mapbox\":{\"style\":\"light\"}}},\"xaxis\":{\"anchor\":\"y\",\"domain\":[0.0,1.0],\"title\":{\"text\":\"Date\"}},\"yaxis\":{\"anchor\":\"x\",\"domain\":[0.0,1.0],\"title\":{\"text\":\"GOOG Closing Price\"}},\"legend\":{\"tracegroupgap\":0},\"title\":{\"text\":\"Closing Prices for Google Stock in 2018/19\"}},                        {\"responsive\": true}                    ).then(function(){\n",
       "                            \n",
       "var gd = document.getElementById('48403a3c-e5f1-49d7-83b6-2d2015dc2e04');\n",
       "var x = new MutationObserver(function (mutations, observer) {{\n",
       "        var display = window.getComputedStyle(gd).display;\n",
       "        if (!display || display === 'none') {{\n",
       "            console.log([gd, 'removed!']);\n",
       "            Plotly.purge(gd);\n",
       "            observer.disconnect();\n",
       "        }}\n",
       "}});\n",
       "\n",
       "// Listen for the removal of the full notebook cells\n",
       "var notebookContainer = gd.closest('#notebook-container');\n",
       "if (notebookContainer) {{\n",
       "    x.observe(notebookContainer, {childList: true});\n",
       "}}\n",
       "\n",
       "// Listen for the clearing of the current output cell\n",
       "var outputEl = gd.closest('.output');\n",
       "if (outputEl) {{\n",
       "    x.observe(outputEl, {childList: true});\n",
       "}}\n",
       "\n",
       "                        })                };                });            </script>        </div>"
      ]
     },
     "metadata": {},
     "output_type": "display_data"
    }
   ],
   "source": [
    "import plotly.express as px\n",
    "from plotly.data import stocks\n",
    "\n",
    "df = stocks()\n",
    "fig = px.line(df, x='date', y='GOOG', title=\"Closing Prices for Google Stock in 2018/19\").update_layout(\n",
    "    xaxis_title=\"Date\", yaxis_title=\"GOOG Closing Price\"\n",
    ")\n",
    "\n",
    "fig.data[0].line.color = \"#000000\"\n",
    "fig.show()"
   ]
  },
  {
   "cell_type": "markdown",
   "metadata": {
    "id": "ybbrqSTypszA"
   },
   "source": [
    "---\n",
    "\n",
    "# Part 4: Finishing (5 points)\n",
    "\n",
    "\n",
    "&#9989; Have you put **your name** and **GitHub username** at the top of your notebook?\n",
    "\n",
    "&#9989; Have you added the **TA** and **Instructor** to your GitHub repository?\n",
    "\n",
    "\n",
    "&#9989; Push your repository to GitHub.\n",
    "\n",
    "\n",
    "```bash\n",
    "\n",
    "# Put the command you used to push to GitHub here\n",
    "```\n",
    "\n",
    "\n",
    "**NOTE:** The grader is able to see your commit messages and whether you pushed the repo at this stage.\n"
   ]
  },
  {
   "cell_type": "markdown",
   "metadata": {
    "id": "P5sGvK7sqNoX"
   },
   "source": [
    "---\n",
    "## Assignment wrap-up"
   ]
  },
  {
   "cell_type": "markdown",
   "metadata": {
    "id": "fEw79O_XqO93"
   },
   "source": [
    "### Congratulations, you're done!\n",
    "\n",
    "Submit this assignment by uploading it to the course Desire2Learn web page.  Go to the **\"Homework Assignments\"** folder, find the dropbox link for Homework #1, and upload it there."
   ]
  },
  {
   "cell_type": "markdown",
   "metadata": {
    "id": "olTHsASyqTP6"
   },
   "source": [
    "&#169; Copyright 2023,  Department of Computational Mathematics, Science and Engineering at Michigan State University"
   ]
  }
 ],
 "metadata": {
  "colab": {
   "provenance": []
  },
  "kernelspec": {
   "display_name": "Python 3 (ipykernel)",
   "language": "python",
   "name": "python3"
  },
  "language_info": {
   "codemirror_mode": {
    "name": "ipython",
    "version": 3
   },
   "file_extension": ".py",
   "mimetype": "text/x-python",
   "name": "python",
   "nbconvert_exporter": "python",
   "pygments_lexer": "ipython3",
   "version": "3.9.7"
  },
  "vscode": {
   "interpreter": {
    "hash": "31f2aee4e71d21fbe5cf8b01ff0e069b9275f58929596ceb00d14d90e3e16cd6"
   }
  }
 },
 "nbformat": 4,
 "nbformat_minor": 4
}
